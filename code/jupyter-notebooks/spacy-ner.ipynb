{
 "cells": [
  {
   "cell_type": "code",
   "execution_count": 1,
   "metadata": {},
   "outputs": [],
   "source": [
    "import os\n",
    "import csv\n",
    "\n",
    "import spacy\n",
    "from spacy import displacy\n",
    "\n",
    "import docx"
   ]
  },
  {
   "cell_type": "code",
   "execution_count": 2,
   "metadata": {},
   "outputs": [
    {
     "name": "stdout",
     "output_type": "stream",
     "text": [
      "../../dataset/rental-agreement/txt\n"
     ]
    }
   ],
   "source": [
    "# Directory containing .txt files\n",
    "\n",
    "data_dir = os.path.join('..', '..', 'dataset', 'rental-agreement', 'txt')\n",
    "print(data_dir)"
   ]
  },
  {
   "cell_type": "code",
   "execution_count": 3,
   "metadata": {},
   "outputs": [],
   "source": [
    "# Read the content out of each file, store as list of strings\n",
    "\n",
    "agreements = list()\n",
    "for fname in os.listdir(data_dir):\n",
    "    with open(os.path.join(data_dir, fname), 'r', encoding='utf-8') as f:\n",
    "        agreements.append(f.read())"
   ]
  },
  {
   "cell_type": "code",
   "execution_count": 4,
   "metadata": {},
   "outputs": [],
   "source": [
    "# Function that takes in a spacy doc object, extracts entity list for the doc\n",
    "# For each entity, creates the tuple: (text of the entity, start index, end index (exclusive), label of the entity)\n",
    "# Returns the list of such tuples\n",
    "\n",
    "def collect_entities(doc):\n",
    "    ent_texts = list()\n",
    "    entities = doc.ents\n",
    "    \n",
    "    for entity in entities:\n",
    "        ent_texts.append(\n",
    "            tuple((entity.text, entity.start_char, entity.end_char, entity.label_)))\n",
    "   \n",
    "    return ent_texts"
   ]
  },
  {
   "cell_type": "code",
   "execution_count": 5,
   "metadata": {},
   "outputs": [],
   "source": [
    "# Function that writes the list of entity info tuples into the csv specified\n",
    "\n",
    "def write_to_csv(entity_list, header_list, path):\n",
    "    with open(path, 'w', newline='') as csv_file:\n",
    "        csvwriter = csv.writer(csv_file, delimiter=',', quotechar='\\'', quoting=csv.QUOTE_MINIMAL)\n",
    "        csvwriter.writerow(header_list)\n",
    "        [csvwriter.writerow(entity_text) for entity_text in entity_list]\n",
    "        \n",
    "    return"
   ]
  },
  {
   "cell_type": "code",
   "execution_count": 6,
   "metadata": {},
   "outputs": [],
   "source": [
    "# Load the spacy model (large size)\n",
    "nlp = spacy.load('en_core_web_trf')\n",
    "\n",
    "# Headers for csv file\n",
    "header_list = ['entity', 'start_char', 'end_char', 'label']"
   ]
  },
  {
   "cell_type": "code",
   "execution_count": 10,
   "metadata": {},
   "outputs": [],
   "source": [
    "# For each file text, create doc object and call the functions to perform NER and \n",
    "# write the result in a separate csv\n",
    "\n",
    "for i, agr in enumerate(agreements):\n",
    "    doc = nlp(agr)\n",
    "    ent_texts = collect_entities(doc)\n",
    "    \n",
    "    filepath = os.path.join(data_dir, '..', 'spacy-trf-ner', str(i)+'.csv')\n",
    "    write_to_csv(ent_texts, header_list, filepath)"
   ]
  },
  {
   "cell_type": "code",
   "execution_count": 12,
   "metadata": {},
   "outputs": [
    {
     "data": {
      "text/html": [
       "<span class=\"tex2jax_ignore\"><div class=\"entities\" style=\"line-height: 2.5; direction: ltr\">STAMP DUTY KARNATAKA</br></br>c$j5Coz3f$ 3oc&gt;rtjs s&amp;o^c^ost ^C7e)©c&gt; &amp;sd: &amp;&amp;. 2/</br></br>ds\tafss&amp;de dTOjSczSrt eroaiaieef«^*^x</br></br>This sheet can be used for any document _ . , ,</br></br>rossssSrfrS d,</br></br>WR E N T A L AGREEMENT”</br></br>This Rental Agreement is made and Executed on</br></br>at Bangalore, by and Between:- \n",
       "<mark class=\"entity\" style=\"background: #bfe1d9; padding: 0.45em 0.6em; margin: 0 0.25em; line-height: 1; border-radius: 0.35em;\">\n",
       "    wef 1/4/2014\n",
       "\n",
       "Mr\n",
       "    <span style=\"font-size: 0.8em; font-weight: bold; line-height: 1; border-radius: 0.35em; vertical-align: middle; margin-left: 0.5rem\">DATE</span>\n",
       "</mark>\n",
       " .Giddappa S/o lute Nagappa</br></br>D No.134 2nd cross</br></br>Shunthi L/o Rumamurthynagar</br></br>Bangalore 560016</br></br>Hereinafter Called the &quot;OWNER&quot; of the One Part: Ms \n",
       "<mark class=\"entity\" style=\"background: #aa9cfc; padding: 0.45em 0.6em; margin: 0 0.25em; line-height: 1; border-radius: 0.35em;\">\n",
       "    Pottumurthi Udayalaxmi\n",
       "    <span style=\"font-size: 0.8em; font-weight: bold; line-height: 1; border-radius: 0.35em; vertical-align: middle; margin-left: 0.5rem\">PERSON</span>\n",
       "</mark>\n",
       " W/o Ramakr ishna Kajjam</br></br>H No.27-7 Main Bazar,</br></br>Miryalaguda, i, Nalgonda Dist A p \n",
       "<mark class=\"entity\" style=\"background: #e4e7d2; padding: 0.45em 0.6em; margin: 0 0.25em; line-height: 1; border-radius: 0.35em;\">\n",
       "    503207\n",
       "    <span style=\"font-size: 0.8em; font-weight: bold; line-height: 1; border-radius: 0.35em; vertical-align: middle; margin-left: 0.5rem\">CARDINAL</span>\n",
       "</mark>\n",
       ".</br></br>Hereinafter called the &quot;TENANT&quot; of the Other Part witnesseth as follows terms and conditions.</br></br>\n",
       "<mark class=\"entity\" style=\"background: #e4e7d2; padding: 0.45em 0.6em; margin: 0 0.25em; line-height: 1; border-radius: 0.35em;\">\n",
       "    1\n",
       "    <span style=\"font-size: 0.8em; font-weight: bold; line-height: 1; border-radius: 0.35em; vertical-align: middle; margin-left: 0.5rem\">CARDINAL</span>\n",
       "</mark>\n",
       ". Whereas the Tenant has paid Advance amount of Rs.40,000/- ( \n",
       "<mark class=\"entity\" style=\"background: #e4e7d2; padding: 0.45em 0.6em; margin: 0 0.25em; line-height: 1; border-radius: 0.35em;\">\n",
       "    Forty thousand\n",
       "    <span style=\"font-size: 0.8em; font-weight: bold; line-height: 1; border-radius: 0.35em; vertical-align: middle; margin-left: 0.5rem\">MONEY</span>\n",
       "</mark>\n",
       " only\t).; to the owner.</br></br>This amount shall not carry any interest and this is refundable at the time vacating.. If any arrears balance that charges will deducted from the advance amount at the time of vacating.</br></br>has agreed to pay the Rental Charges of \n",
       "<mark class=\"entity\" style=\"background: #e4e7d2; padding: 0.45em 0.6em; margin: 0 0.25em; line-height: 1; border-radius: 0.35em;\">\n",
       "    thousand three hundred\n",
       "    <span style=\"font-size: 0.8em; font-weight: bold; line-height: 1; border-radius: 0.35em; vertical-align: middle; margin-left: 0.5rem\">CARDINAL</span>\n",
       "</mark>\n",
       " only\t) t&lt;</br></br>\n",
       "<mark class=\"entity\" style=\"background: #bfe1d9; padding: 0.45em 0.6em; margin: 0 0.25em; line-height: 1; border-radius: 0.35em;\">\n",
       "    month\n",
       "    <span style=\"font-size: 0.8em; font-weight: bold; line-height: 1; border-radius: 0.35em; vertical-align: middle; margin-left: 0.5rem\">DATE</span>\n",
       "</mark>\n",
       " regularly.</br></br>the Electrcity charges separately to</br></br>o</br></br></br>4f This Rental Agreement Duration for only 11(Eleven) months from this date of Agreement. If both the parties mutual understanding it can be extended.</br></br>The Tenancy can be terminated by either party by giving \n",
       "<mark class=\"entity\" style=\"background: #bfe1d9; padding: 0.45em 0.6em; margin: 0 0.25em; line-height: 1; border-radius: 0.35em;\">\n",
       "    Two Month\n",
       "    <span style=\"font-size: 0.8em; font-weight: bold; line-height: 1; border-radius: 0.35em; vertical-align: middle; margin-left: 0.5rem\">DATE</span>\n",
       "</mark>\n",
       " notice to the opposite party.</br></br>Whereas the Tenant shall not make any addition?! alteration to the schedule premises and tenant keep the portion clean and good tenantable conditions.</br></br>Whereas the Tenant shall use the Schedule premises for Residential purpose only and should not use for any illegal or immoral purposes.</br></br>Whereas the Tenant should pay painting charges at the time vacating the premises.</br></br>S C H E D u L E&quot;</br></br>The House premises situated at \n",
       "<mark class=\"entity\" style=\"background: #ddd; padding: 0.45em 0.6em; margin: 0 0.25em; line-height: 1; border-radius: 0.35em;\">\n",
       "    No.\n",
       "    <span style=\"font-size: 0.8em; font-weight: bold; line-height: 1; border-radius: 0.35em; vertical-align: middle; margin-left: 0.5rem\">FAC</span>\n",
       "</mark>\n",
       " \n",
       "<mark class=\"entity\" style=\"background: #e4e7d2; padding: 0.45em 0.6em; margin: 0 0.25em; line-height: 1; border-radius: 0.35em;\">\n",
       "    184\n",
       "    <span style=\"font-size: 0.8em; font-weight: bold; line-height: 1; border-radius: 0.35em; vertical-align: middle; margin-left: 0.5rem\">CARDINAL</span>\n",
       "</mark>\n",
       " \n",
       "<mark class=\"entity\" style=\"background: #e4e7d2; padding: 0.45em 0.6em; margin: 0 0.25em; line-height: 1; border-radius: 0.35em;\">\n",
       "    1st\n",
       "    <span style=\"font-size: 0.8em; font-weight: bold; line-height: 1; border-radius: 0.35em; vertical-align: middle; margin-left: 0.5rem\">ORDINAL</span>\n",
       "</mark>\n",
       " floor \n",
       "<mark class=\"entity\" style=\"background: #e4e7d2; padding: 0.45em 0.6em; margin: 0 0.25em; line-height: 1; border-radius: 0.35em;\">\n",
       "    2nd\n",
       "    <span style=\"font-size: 0.8em; font-weight: bold; line-height: 1; border-radius: 0.35em; vertical-align: middle; margin-left: 0.5rem\">ORDINAL</span>\n",
       "</mark>\n",
       " cross</br></br>ohanchi h/o, Ruma.murth.yne.gar. \n",
       "<mark class=\"entity\" style=\"background: #ddd; padding: 0.45em 0.6em; margin: 0 0.25em; line-height: 1; border-radius: 0.35em;\">\n",
       "    Bangalore 560016\n",
       "    <span style=\"font-size: 0.8em; font-weight: bold; line-height: 1; border-radius: 0.35em; vertical-align: middle; margin-left: 0.5rem\">FAC</span>\n",
       "</mark>\n",
       " consists of \n",
       "<mark class=\"entity\" style=\"background: #e4e7d2; padding: 0.45em 0.6em; margin: 0 0.25em; line-height: 1; border-radius: 0.35em;\">\n",
       "    1 BHK\n",
       "    <span style=\"font-size: 0.8em; font-weight: bold; line-height: 1; border-radius: 0.35em; vertical-align: middle; margin-left: 0.5rem\">QUANTITY</span>\n",
       "</mark>\n",
       ". with bathroom &amp; toilet.</br></br>In witness whereof the party is hereto have signed this Rental Agreement on the day,month and year first above written in front of the following witnesses.</br></br></br></br></br></br></br></br></br></br></br></br></br></br></br></br></br></br></br></br></br></br></br></br></br></br></br></br></br></br></br></br></div></span>"
      ],
      "text/plain": [
       "<IPython.core.display.HTML object>"
      ]
     },
     "metadata": {},
     "output_type": "display_data"
    }
   ],
   "source": [
    "# Sample rendering of NER on a file text using displacy\n",
    "\n",
    "render_text = nlp(agreements[0])\n",
    "displacy.render(render_text, style='ent', jupyter=True)"
   ]
  },
  {
   "cell_type": "code",
   "execution_count": null,
   "metadata": {},
   "outputs": [],
   "source": []
  }
 ],
 "metadata": {
  "kernelspec": {
   "display_name": "Python 3",
   "language": "python",
   "name": "python3"
  },
  "language_info": {
   "codemirror_mode": {
    "name": "ipython",
    "version": 3
   },
   "file_extension": ".py",
   "mimetype": "text/x-python",
   "name": "python",
   "nbconvert_exporter": "python",
   "pygments_lexer": "ipython3",
   "version": "3.8.5"
  }
 },
 "nbformat": 4,
 "nbformat_minor": 4
}
