{
  "nbformat": 4,
  "nbformat_minor": 0,
  "metadata": {
    "kernelspec": {
      "display_name": "Python 3",
      "language": "python",
      "name": "python3"
    },
    "language_info": {
      "codemirror_mode": {
        "name": "ipython",
        "version": 3
      },
      "file_extension": ".py",
      "mimetype": "text/x-python",
      "name": "python",
      "nbconvert_exporter": "python",
      "pygments_lexer": "ipython3",
      "version": "3.8.5"
    },
    "colab": {
      "name": "ner.ipynb",
      "provenance": [],
      "collapsed_sections": []
    }
  },
  "cells": [
    {
      "cell_type": "code",
      "metadata": {
        "colab": {
          "base_uri": "https://localhost:8080/"
        },
        "id": "6lf9JPlVZZrk",
        "outputId": "e988dd73-b5de-4a7c-ad5e-ec6d9031bd40"
      },
      "source": [
        "import csv\n",
        "import os\n",
        "!python -m pip install transformers\n",
        "from transformers import AutoTokenizer, AutoModelForTokenClassification\n",
        "from transformers import pipeline\n",
        "\n",
        "# import spacy\n",
        "# from spacy import displacy\n",
        "# !python -m spacy download en_core_web_lg"
      ],
      "execution_count": 6,
      "outputs": [
        {
          "output_type": "stream",
          "text": [
            "Requirement already satisfied: transformers in /usr/local/lib/python3.6/dist-packages (4.2.2)\n",
            "Requirement already satisfied: regex!=2019.12.17 in /usr/local/lib/python3.6/dist-packages (from transformers) (2019.12.20)\n",
            "Requirement already satisfied: packaging in /usr/local/lib/python3.6/dist-packages (from transformers) (20.8)\n",
            "Requirement already satisfied: numpy in /usr/local/lib/python3.6/dist-packages (from transformers) (1.19.5)\n",
            "Requirement already satisfied: tqdm>=4.27 in /usr/local/lib/python3.6/dist-packages (from transformers) (4.41.1)\n",
            "Requirement already satisfied: importlib-metadata; python_version < \"3.8\" in /usr/local/lib/python3.6/dist-packages (from transformers) (3.4.0)\n",
            "Requirement already satisfied: requests in /usr/local/lib/python3.6/dist-packages (from transformers) (2.23.0)\n",
            "Requirement already satisfied: dataclasses; python_version < \"3.7\" in /usr/local/lib/python3.6/dist-packages (from transformers) (0.8)\n",
            "Requirement already satisfied: tokenizers==0.9.4 in /usr/local/lib/python3.6/dist-packages (from transformers) (0.9.4)\n",
            "Requirement already satisfied: sacremoses in /usr/local/lib/python3.6/dist-packages (from transformers) (0.0.43)\n",
            "Requirement already satisfied: filelock in /usr/local/lib/python3.6/dist-packages (from transformers) (3.0.12)\n",
            "Requirement already satisfied: pyparsing>=2.0.2 in /usr/local/lib/python3.6/dist-packages (from packaging->transformers) (2.4.7)\n",
            "Requirement already satisfied: typing-extensions>=3.6.4; python_version < \"3.8\" in /usr/local/lib/python3.6/dist-packages (from importlib-metadata; python_version < \"3.8\"->transformers) (3.7.4.3)\n",
            "Requirement already satisfied: zipp>=0.5 in /usr/local/lib/python3.6/dist-packages (from importlib-metadata; python_version < \"3.8\"->transformers) (3.4.0)\n",
            "Requirement already satisfied: certifi>=2017.4.17 in /usr/local/lib/python3.6/dist-packages (from requests->transformers) (2020.12.5)\n",
            "Requirement already satisfied: chardet<4,>=3.0.2 in /usr/local/lib/python3.6/dist-packages (from requests->transformers) (3.0.4)\n",
            "Requirement already satisfied: urllib3!=1.25.0,!=1.25.1,<1.26,>=1.21.1 in /usr/local/lib/python3.6/dist-packages (from requests->transformers) (1.24.3)\n",
            "Requirement already satisfied: idna<3,>=2.5 in /usr/local/lib/python3.6/dist-packages (from requests->transformers) (2.10)\n",
            "Requirement already satisfied: six in /usr/local/lib/python3.6/dist-packages (from sacremoses->transformers) (1.15.0)\n",
            "Requirement already satisfied: click in /usr/local/lib/python3.6/dist-packages (from sacremoses->transformers) (7.1.2)\n",
            "Requirement already satisfied: joblib in /usr/local/lib/python3.6/dist-packages (from sacremoses->transformers) (1.0.0)\n",
            "/content\n"
          ],
          "name": "stdout"
        }
      ]
    },
    {
      "cell_type": "code",
      "metadata": {
        "colab": {
          "base_uri": "https://localhost:8080/"
        },
        "id": "MwWHMHb-ZZrk",
        "outputId": "d54cd27c-90fa-4ca6-ae10-a7ac09f8f1ca"
      },
      "source": [
        "# Directory containing .txt files\n",
        "\n",
        "data_dir = os.path.join('dataset', 'rental-agreement', 'txt')\n",
        "print(data_dir)"
      ],
      "execution_count": 7,
      "outputs": [
        {
          "output_type": "stream",
          "text": [
            "dataset/rental-agreement/txt\n"
          ],
          "name": "stdout"
        }
      ]
    },
    {
      "cell_type": "code",
      "metadata": {
        "id": "zQ5wN7OtZZrk"
      },
      "source": [
        "# Read the content out of each file, store as list of strings\n",
        "\n",
        "agreements = list()\n",
        "for fname in os.listdir(data_dir):\n",
        "    with open(os.path.join(data_dir, fname), 'r', encoding='utf-8') as f:\n",
        "        agreements.append(f.read())"
      ],
      "execution_count": 8,
      "outputs": []
    },
    {
      "cell_type": "code",
      "metadata": {
        "id": "SPtNewYBZZrk"
      },
      "source": [
        "# Function that takes in a spacy doc object, extracts entity list for the doc\n",
        "# For each entity, creates the tuple: (text of the entity, start index, end index (exclusive), label of the entity)\n",
        "# Returns the list of such tuples\n",
        "\n",
        "def collect_entities(doc):\n",
        "    ent_texts = list()\n",
        "    \n",
        "    for entity in doc:\n",
        "        ent_texts.append(\n",
        "            tuple((entity[\"word\"],entity[\"score\"],entity[\"entity\"],entity[\"index\"],entity[\"start\"],entity[\"end\"]))\n",
        "            )\n",
        "   \n",
        "    return ent_texts"
      ],
      "execution_count": 23,
      "outputs": []
    },
    {
      "cell_type": "code",
      "metadata": {
        "id": "fcrylb-qZZrk"
      },
      "source": [
        "# Function that writes the list of entity info tuples into the csv specified\n",
        "\n",
        "def write_to_csv(entity_list, header_list, path):\n",
        "    with open(path, 'w', newline='') as csv_file:\n",
        "        csvwriter = csv.writer(csv_file, delimiter=',', quotechar='\\'', quoting=csv.QUOTE_MINIMAL)\n",
        "        csvwriter.writerow(header_list)\n",
        "        [csvwriter.writerow(entity_text) for entity_text in entity_list]\n",
        "        \n",
        "    return"
      ],
      "execution_count": 20,
      "outputs": []
    },
    {
      "cell_type": "code",
      "metadata": {
        "colab": {
          "base_uri": "https://localhost:8080/"
        },
        "id": "CdX4fBVPZZrk",
        "outputId": "e714f64c-3f77-4abb-80e0-63846c8c22cc"
      },
      "source": [
        "# # Load the spacy model (large size)\n",
        "# nlp = spacy.load('en_core_web_lg')\n",
        "tokenizer = AutoTokenizer.from_pretrained(\"dslim/bert-base-NER\")\n",
        "model = AutoModelForTokenClassification.from_pretrained(\"dslim/bert-base-NER\")\n",
        "\n",
        "nlp = pipeline(\"ner\", model=model, tokenizer=tokenizer)\n",
        "example = \"My name is Wolfgang and I live in Berlin\"\n",
        "\n",
        "ner_results = nlp(example)\n",
        "\n",
        "print(ner_results)"
      ],
      "execution_count": 21,
      "outputs": [
        {
          "output_type": "stream",
          "text": [
            "[{'word': 'Wolfgang', 'score': 0.9990139603614807, 'entity': 'B-PER', 'index': 4, 'start': 11, 'end': 19}, {'word': 'Berlin', 'score': 0.9996449947357178, 'entity': 'B-LOC', 'index': 9, 'start': 34, 'end': 40}]\n"
          ],
          "name": "stdout"
        }
      ]
    },
    {
      "cell_type": "code",
      "metadata": {
        "id": "5I8ZUe-nZZrk"
      },
      "source": [
        "# Headers for csv file\n",
        "header_list = ['word', 'score', 'entity', 'index','start','end']\n",
        "# For each file text, create doc object and call the functions to perform NER and write the result in a separate csv\n",
        "\n",
        "for i, agr in enumerate(agreements):\n",
        "    doc = nlp(agr)\n",
        "    ent_texts = collect_entities(doc)\n",
        "\n",
        "    filepath = os.path.join(data_dir, '..', 'ner', str(i)+'.csv')\n",
        "    write_to_csv(ent_texts, header_list, filepath)"
      ],
      "execution_count": 24,
      "outputs": []
    },
    {
      "cell_type": "code",
      "metadata": {
        "colab": {
          "base_uri": "https://localhost:8080/"
        },
        "id": "z4OeROo1ZZrk",
        "outputId": "f92647a4-c8ed-4592-f955-200c4f1e2ed8"
      },
      "source": [
        "# Sample rendering of NER on a file text using displacy\n",
        "\n",
        "render_text = nlp(agreements[0])\n",
        "# displacy.render(render_text, style='ent', jupyter=True)\n",
        "render_text"
      ],
      "execution_count": 25,
      "outputs": [
        {
          "output_type": "execute_result",
          "data": {
            "text/plain": [
              "[{'end': 73,\n",
              "  'entity': 'B-LOC',\n",
              "  'index': 19,\n",
              "  'score': 0.9988933801651001,\n",
              "  'start': 64,\n",
              "  'word': 'Bangalore'},\n",
              " {'end': 122,\n",
              "  'entity': 'B-PER',\n",
              "  'index': 32,\n",
              "  'score': 0.9985681772232056,\n",
              "  'start': 121,\n",
              "  'word': 'S'},\n",
              " {'end': 125,\n",
              "  'entity': 'I-PER',\n",
              "  'index': 34,\n",
              "  'score': 0.9853574633598328,\n",
              "  'start': 123,\n",
              "  'word': 'Sa'},\n",
              " {'end': 127,\n",
              "  'entity': 'I-PER',\n",
              "  'index': 35,\n",
              "  'score': 0.7655276656150818,\n",
              "  'start': 125,\n",
              "  'word': '##ku'},\n",
              " {'end': 129,\n",
              "  'entity': 'I-LOC',\n",
              "  'index': 36,\n",
              "  'score': 0.30301573872566223,\n",
              "  'start': 127,\n",
              "  'word': '##nt'},\n",
              " {'end': 133,\n",
              "  'entity': 'I-LOC',\n",
              "  'index': 37,\n",
              "  'score': 0.9920133352279663,\n",
              "  'start': 129,\n",
              "  'word': '##hala'},\n",
              " {'end': 137,\n",
              "  'entity': 'B-LOC',\n",
              "  'index': 39,\n",
              "  'score': 0.9849275350570679,\n",
              "  'start': 136,\n",
              "  'word': 'H'},\n",
              " {'end': 155,\n",
              "  'entity': 'B-LOC',\n",
              "  'index': 51,\n",
              "  'score': 0.9677917957305908,\n",
              "  'start': 154,\n",
              "  'word': 'R'},\n",
              " {'end': 157,\n",
              "  'entity': 'B-LOC',\n",
              "  'index': 52,\n",
              "  'score': 0.9075092077255249,\n",
              "  'start': 155,\n",
              "  'word': '##ED'},\n",
              " {'end': 159,\n",
              "  'entity': 'I-LOC',\n",
              "  'index': 53,\n",
              "  'score': 0.6732258200645447,\n",
              "  'start': 157,\n",
              "  'word': '##NA'},\n",
              " {'end': 163,\n",
              "  'entity': 'I-LOC',\n",
              "  'index': 55,\n",
              "  'score': 0.9914569854736328,\n",
              "  'start': 161,\n",
              "  'word': 'AL'},\n",
              " {'end': 165,\n",
              "  'entity': 'I-LOC',\n",
              "  'index': 56,\n",
              "  'score': 0.982618510723114,\n",
              "  'start': 163,\n",
              "  'word': '##CA'},\n",
              " {'end': 166,\n",
              "  'entity': 'I-LOC',\n",
              "  'index': 57,\n",
              "  'score': 0.9295346140861511,\n",
              "  'start': 165,\n",
              "  'word': '##Z'},\n",
              " {'end': 168,\n",
              "  'entity': 'I-LOC',\n",
              "  'index': 58,\n",
              "  'score': 0.4614938199520111,\n",
              "  'start': 166,\n",
              "  'word': '##AR'},\n",
              " {'end': 173,\n",
              "  'entity': 'B-LOC',\n",
              "  'index': 60,\n",
              "  'score': 0.9664888381958008,\n",
              "  'start': 171,\n",
              "  'word': 'Op'},\n",
              " {'end': 177,\n",
              "  'entity': 'B-LOC',\n",
              "  'index': 63,\n",
              "  'score': 0.8645691275596619,\n",
              "  'start': 176,\n",
              "  'word': 'S'},\n",
              " {'end': 179,\n",
              "  'entity': 'I-LOC',\n",
              "  'index': 64,\n",
              "  'score': 0.6526943445205688,\n",
              "  'start': 177,\n",
              "  'word': '##BI'},\n",
              " {'end': 184,\n",
              "  'entity': 'I-LOC',\n",
              "  'index': 65,\n",
              "  'score': 0.8712417483329773,\n",
              "  'start': 180,\n",
              "  'word': 'Main'},\n",
              " {'end': 189,\n",
              "  'entity': 'B-LOC',\n",
              "  'index': 67,\n",
              "  'score': 0.9644107222557068,\n",
              "  'start': 186,\n",
              "  'word': 'Old'},\n",
              " {'end': 193,\n",
              "  'entity': 'I-LOC',\n",
              "  'index': 68,\n",
              "  'score': 0.9780558943748474,\n",
              "  'start': 190,\n",
              "  'word': 'Jai'},\n",
              " {'end': 194,\n",
              "  'entity': 'I-LOC',\n",
              "  'index': 69,\n",
              "  'score': 0.9805251359939575,\n",
              "  'start': 193,\n",
              "  'word': '##l'},\n",
              " {'end': 199,\n",
              "  'entity': 'I-LOC',\n",
              "  'index': 70,\n",
              "  'score': 0.9879987835884094,\n",
              "  'start': 195,\n",
              "  'word': 'Road'},\n",
              " {'end': 201,\n",
              "  'entity': 'I-LOC',\n",
              "  'index': 71,\n",
              "  'score': 0.9777354001998901,\n",
              "  'start': 200,\n",
              "  'word': 'J'},\n",
              " {'end': 202,\n",
              "  'entity': 'I-LOC',\n",
              "  'index': 72,\n",
              "  'score': 0.6568232774734497,\n",
              "  'start': 201,\n",
              "  'word': '##n'},\n",
              " {'end': 206,\n",
              "  'entity': 'B-LOC',\n",
              "  'index': 74,\n",
              "  'score': 0.9970681667327881,\n",
              "  'start': 205,\n",
              "  'word': 'V'},\n",
              " {'end': 209,\n",
              "  'entity': 'B-LOC',\n",
              "  'index': 75,\n",
              "  'score': 0.9760051369667053,\n",
              "  'start': 206,\n",
              "  'word': '##ish'},\n",
              " {'end': 212,\n",
              "  'entity': 'I-LOC',\n",
              "  'index': 76,\n",
              "  'score': 0.9657241106033325,\n",
              "  'start': 209,\n",
              "  'word': '##aka'},\n",
              " {'end': 214,\n",
              "  'entity': 'I-LOC',\n",
              "  'index': 77,\n",
              "  'score': 0.9560680985450745,\n",
              "  'start': 212,\n",
              "  'word': '##pa'},\n",
              " {'end': 215,\n",
              "  'entity': 'I-LOC',\n",
              "  'index': 78,\n",
              "  'score': 0.7701641321182251,\n",
              "  'start': 214,\n",
              "  'word': '##t'},\n",
              " {'end': 218,\n",
              "  'entity': 'I-LOC',\n",
              "  'index': 79,\n",
              "  'score': 0.8878328204154968,\n",
              "  'start': 215,\n",
              "  'word': '##nam'},\n",
              " {'end': 421,\n",
              "  'entity': 'B-PER',\n",
              "  'index': 129,\n",
              "  'score': 0.996749222278595,\n",
              "  'start': 420,\n",
              "  'word': 'V'},\n",
              " {'end': 423,\n",
              "  'entity': 'I-PER',\n",
              "  'index': 131,\n",
              "  'score': 0.8782950639724731,\n",
              "  'start': 422,\n",
              "  'word': 'V'},\n",
              " {'end': 428,\n",
              "  'entity': 'I-PER',\n",
              "  'index': 133,\n",
              "  'score': 0.9820604920387268,\n",
              "  'start': 424,\n",
              "  'word': 'Ravi'},\n",
              " {'end': 431,\n",
              "  'entity': 'I-PER',\n",
              "  'index': 134,\n",
              "  'score': 0.9950627684593201,\n",
              "  'start': 429,\n",
              "  'word': 'Ki'},\n",
              " {'end': 441,\n",
              "  'entity': 'B-PER',\n",
              "  'index': 140,\n",
              "  'score': 0.5173436403274536,\n",
              "  'start': 440,\n",
              "  'word': 'V'},\n",
              " {'end': 443,\n",
              "  'entity': 'I-ORG',\n",
              "  'index': 142,\n",
              "  'score': 0.34654369950294495,\n",
              "  'start': 442,\n",
              "  'word': 'R'},\n",
              " {'end': 445,\n",
              "  'entity': 'I-ORG',\n",
              "  'index': 144,\n",
              "  'score': 0.6279981732368469,\n",
              "  'start': 444,\n",
              "  'word': 'G'},\n",
              " {'end': 448,\n",
              "  'entity': 'I-ORG',\n",
              "  'index': 146,\n",
              "  'score': 0.4551152288913727,\n",
              "  'start': 446,\n",
              "  'word': 'Sa'},\n",
              " {'end': 450,\n",
              "  'entity': 'I-ORG',\n",
              "  'index': 147,\n",
              "  'score': 0.5814377069473267,\n",
              "  'start': 448,\n",
              "  'word': '##st'},\n",
              " {'end': 452,\n",
              "  'entity': 'I-ORG',\n",
              "  'index': 148,\n",
              "  'score': 0.479777455329895,\n",
              "  'start': 450,\n",
              "  'word': '##ry'},\n",
              " {'end': 456,\n",
              "  'entity': 'B-PER',\n",
              "  'index': 150,\n",
              "  'score': 0.555463969707489,\n",
              "  'start': 455,\n",
              "  'word': 'A'},\n",
              " {'end': 458,\n",
              "  'entity': 'I-LOC',\n",
              "  'index': 152,\n",
              "  'score': 0.8177374601364136,\n",
              "  'start': 457,\n",
              "  'word': 'S'},\n",
              " {'end': 459,\n",
              "  'entity': 'I-LOC',\n",
              "  'index': 153,\n",
              "  'score': 0.5986764430999756,\n",
              "  'start': 458,\n",
              "  'word': '.'},\n",
              " {'end': 462,\n",
              "  'entity': 'I-PER',\n",
              "  'index': 154,\n",
              "  'score': 0.5321677327156067,\n",
              "  'start': 459,\n",
              "  'word': 'Rao'},\n",
              " {'end': 468,\n",
              "  'entity': 'I-LOC',\n",
              "  'index': 155,\n",
              "  'score': 0.9757534265518188,\n",
              "  'start': 463,\n",
              "  'word': 'Nagar'},\n",
              " {'end': 480,\n",
              "  'entity': 'B-LOC',\n",
              "  'index': 157,\n",
              "  'score': 0.9986201524734497,\n",
              "  'start': 471,\n",
              "  'word': 'Hyderabad'},\n",
              " {'end': 487,\n",
              "  'entity': 'I-LOC',\n",
              "  'index': 158,\n",
              "  'score': 0.9024008512496948,\n",
              "  'start': 481,\n",
              "  'word': 'Andhra'},\n",
              " {'end': 495,\n",
              "  'entity': 'I-LOC',\n",
              "  'index': 159,\n",
              "  'score': 0.9994127750396729,\n",
              "  'start': 488,\n",
              "  'word': 'Pradesh'},\n",
              " {'end': 667,\n",
              "  'entity': 'B-LOC',\n",
              "  'index': 200,\n",
              "  'score': 0.42172032594680786,\n",
              "  'start': 666,\n",
              "  'word': 'O'},\n",
              " {'end': 718,\n",
              "  'entity': 'B-ORG',\n",
              "  'index': 220,\n",
              "  'score': 0.7966106534004211,\n",
              "  'start': 714,\n",
              "  'word': 'Less'},\n",
              " {'end': 762,\n",
              "  'entity': 'I-LOC',\n",
              "  'index': 229,\n",
              "  'score': 0.3866315186023712,\n",
              "  'start': 757,\n",
              "  'word': 'Floor'},\n",
              " {'end': 802,\n",
              "  'entity': 'B-LOC',\n",
              "  'index': 239,\n",
              "  'score': 0.9779411554336548,\n",
              "  'start': 801,\n",
              "  'word': 'T'},\n",
              " {'end': 804,\n",
              "  'entity': 'I-LOC',\n",
              "  'index': 241,\n",
              "  'score': 0.9934089779853821,\n",
              "  'start': 803,\n",
              "  'word': 'C'},\n",
              " {'end': 807,\n",
              "  'entity': 'I-LOC',\n",
              "  'index': 243,\n",
              "  'score': 0.978264331817627,\n",
              "  'start': 805,\n",
              "  'word': 'Pa'},\n",
              " {'end': 815,\n",
              "  'entity': 'I-LOC',\n",
              "  'index': 245,\n",
              "  'score': 0.9511150121688843,\n",
              "  'start': 811,\n",
              "  'word': 'Main'},\n",
              " {'end': 820,\n",
              "  'entity': 'I-LOC',\n",
              "  'index': 246,\n",
              "  'score': 0.9744542241096497,\n",
              "  'start': 816,\n",
              "  'word': 'Road'},\n",
              " {'end': 825,\n",
              "  'entity': 'B-LOC',\n",
              "  'index': 248,\n",
              "  'score': 0.976665735244751,\n",
              "  'start': 822,\n",
              "  'word': 'Ram'},\n",
              " {'end': 827,\n",
              "  'entity': 'I-LOC',\n",
              "  'index': 249,\n",
              "  'score': 0.9093156456947327,\n",
              "  'start': 826,\n",
              "  'word': 'm'},\n",
              " {'end': 835,\n",
              "  'entity': 'I-LOC',\n",
              "  'index': 252,\n",
              "  'score': 0.9218608140945435,\n",
              "  'start': 833,\n",
              "  'word': 'na'},\n",
              " {'end': 849,\n",
              "  'entity': 'B-LOC',\n",
              "  'index': 255,\n",
              "  'score': 0.994259774684906,\n",
              "  'start': 840,\n",
              "  'word': 'Bangalore'},\n",
              " {'end': 992,\n",
              "  'entity': 'B-ORG',\n",
              "  'index': 285,\n",
              "  'score': 0.49491462111473083,\n",
              "  'start': 988,\n",
              "  'word': 'Less'},\n",
              " {'end': 1134,\n",
              "  'entity': 'B-ORG',\n",
              "  'index': 317,\n",
              "  'score': 0.536491870880127,\n",
              "  'start': 1131,\n",
              "  'word': 'Lea'}]"
            ]
          },
          "metadata": {
            "tags": []
          },
          "execution_count": 25
        }
      ]
    },
    {
      "cell_type": "code",
      "metadata": {
        "colab": {
          "base_uri": "https://localhost:8080/"
        },
        "id": "gTsAN4cAohA8",
        "outputId": "95c34cd7-03ec-4ebd-b0ce-fb5ba23a53a5"
      },
      "source": [
        "from google.colab import drive\n",
        "drive.mount('/content/drive')"
      ],
      "execution_count": 27,
      "outputs": [
        {
          "output_type": "stream",
          "text": [
            "Mounted at /content/drive\n"
          ],
          "name": "stdout"
        }
      ]
    },
    {
      "cell_type": "code",
      "metadata": {
        "colab": {
          "base_uri": "https://localhost:8080/",
          "height": 124
        },
        "id": "O9zJYwfXZZrk",
        "outputId": "ffc9d871-9f5a-41a8-fc66-9b81cb693297"
      },
      "source": [
        "agreements[0]"
      ],
      "execution_count": 26,
      "outputs": [
        {
          "output_type": "execute_result",
          "data": {
            "application/vnd.google.colaboratory.intrinsic+json": {
              "type": "string"
            },
            "text/plain": [
              "'RENTAL AGREEMENT\\n\\nThis Rental Agreement is made and executed at Bangalore on this the 1st May 2005 by and between:\\n\\nMrs. S.Sakunthala,\\n\\nHno: 4E,10-12-1,\\n\\nREDNAM ALCAZAR,\\n\\nOpp. SBI Main, Old Jail Road Jn,\\n\\nVishakapatnam - 530020\\n\\nHereinafter called as the “LESSOR” (which expression shall mean and include wherever the context so requires admits his heirs, executors, representatives and assigns) of the ONE PART;\\n\\nAnd:\\n\\nV.V.Ravi Kian„\\n\\nS/o V.R.G.Sastry,\\n\\nA.S.Rao Nagar,\\n\\nHyderabad Andhra Pradesh.-36\\n\\nHereinafter called the “LESSEE” (Which expression shall mean and include wherever the context so requires, admits his executors, representatives and assigns) of the OTHER PART.\\n\\nWITNESSES AS FOLLOWS:\\n\\nWhereas the Lessor is the absolute owner of the Fourth Floor residential premises bearing No:407A, T.C.Palya Main Road, Ram murthy nagar, Bangalore-16, which are morefully described in the Schedule written here under and hereinafter referred to as the “Schedule Property”.\\n\\nWhereas the Lessor has agreed to grant a lease of the said premises to the Lessee under the following terms and conditions.\\n\\nDURATION: The duration of the Lease shall be for a period of 11 (Eleven) months commencing from 1st April 2010 and is subject to renewal thereafter under mutually agreed terms and conditions by the Lessor and the Lessee with an enhancement of 5% in the monthly rent.\\n\\nRENT: The monthly rent payable by the Lessee to the LESSOR for the Schedule Property shall be Rs. 9,000/- (Nine thousand and two hundred rupees only). This amount shall be paid every month within tenth day of subsequent month.\\n\\nELECTRICITY AND WATER CHARGES: The Lessee shall pay the Electricity charges to the concerned department regularly\\n\\nINTERNAL MAINTENANCE: The Lessee shall maintain the Schedule Property in a state of good order and condition and shall not cause any damage or disfigurement to the schedule property there in always expecting fair wear and tear.\\n\\nLIABLE FOR DAMAGES: It is agreed that any damages caused by the Lessee in the Schedule Property shall be made good by the Lessee promptly.\\n\\nUSER: The Schedule Property shall be used by the Lessee only for residential purpose and shall not use or permit the same for any business or occupation or any unlawful purpose.\\n\\nDEPOSIT: The Lessee has paid a sum of Rs. 80,000/- (Rs. Eighty thousand only) by way of cash as Security Deposit. The same amount shall be refundable by the Lessor to the Lessee without any interest at the time of vacating the Schedule Premises.\\n\\nTERMINATION OF LEASE: Either party may give one month notice in writing to terminate this Lease agreement.\\n\\nNotwithstanding what is stated above, the agreement shall be revoked by the Lessor, if the Lessee is in default in the payment of the rent and/or other charges three months after the same have fallen due or if the Lessee commits breach of any terms and conditions of this agreement.\\n\\nSCHEDULE PROPERTY\\n\\nFourth Floor of the residential premises situated at HNO:407 A, T.C. Palya Main Road, Ram murthy nagar, Bangalore-560037, Consisting of three Bedrooms, hall, kitchen, two attached Toilet and Bathrooms.\\n\\nFittings and Fixtures:\\n\\n\\n\\n\\n\\nIn WITNESS WHEREOF the parties have executed this agreement in the presence of the following witnesses on the day, month and year as first above mentioned.\\n\\nWITNESSES:\\n\\n1.\\n\\n2.\\n\\n\\n'"
            ]
          },
          "metadata": {
            "tags": []
          },
          "execution_count": 26
        }
      ]
    },
    {
      "cell_type": "code",
      "metadata": {
        "id": "jZSGCmUAkS7A"
      },
      "source": [
        ""
      ],
      "execution_count": null,
      "outputs": []
    }
  ]
}