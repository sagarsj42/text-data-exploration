{
  "nbformat": 4,
  "nbformat_minor": 0,
  "metadata": {
    "kernelspec": {
      "display_name": "Python 3",
      "language": "python",
      "name": "python3"
    },
    "language_info": {
      "codemirror_mode": {
        "name": "ipython",
        "version": 2
      },
      "file_extension": ".py",
      "mimetype": "text/x-python",
      "name": "python",
      "nbconvert_exporter": "python",
      "pygments_lexer": "ipython2",
      "version": "2.7.6"
    },
    "colab": {
      "name": "polygot-ner.ipynb",
      "provenance": [],
      "collapsed_sections": []
    },
    "widgets": {
      "application/vnd.jupyter.widget-state+json": {
        "1ae81cc8bfa248c48930bcb8c43824fa": {
          "model_module": "@jupyter-widgets/controls",
          "model_name": "HBoxModel",
          "state": {
            "_view_name": "HBoxView",
            "_dom_classes": [],
            "_model_name": "HBoxModel",
            "_view_module": "@jupyter-widgets/controls",
            "_model_module_version": "1.5.0",
            "_view_count": null,
            "_view_module_version": "1.5.0",
            "box_style": "",
            "layout": "IPY_MODEL_e091110bd5454d17b4e8ae20b5a159e7",
            "_model_module": "@jupyter-widgets/controls",
            "children": [
              "IPY_MODEL_d9f370a0835d4e9b87c7bfbfab7058cf",
              "IPY_MODEL_4c6ae4727ede4f3f8b7901ae6f6fd5d6"
            ]
          }
        },
        "e091110bd5454d17b4e8ae20b5a159e7": {
          "model_module": "@jupyter-widgets/base",
          "model_name": "LayoutModel",
          "state": {
            "_view_name": "LayoutView",
            "grid_template_rows": null,
            "right": null,
            "justify_content": null,
            "_view_module": "@jupyter-widgets/base",
            "overflow": null,
            "_model_module_version": "1.2.0",
            "_view_count": null,
            "flex_flow": null,
            "width": null,
            "min_width": null,
            "border": null,
            "align_items": null,
            "bottom": null,
            "_model_module": "@jupyter-widgets/base",
            "top": null,
            "grid_column": null,
            "overflow_y": null,
            "overflow_x": null,
            "grid_auto_flow": null,
            "grid_area": null,
            "grid_template_columns": null,
            "flex": null,
            "_model_name": "LayoutModel",
            "justify_items": null,
            "grid_row": null,
            "max_height": null,
            "align_content": null,
            "visibility": null,
            "align_self": null,
            "height": null,
            "min_height": null,
            "padding": null,
            "grid_auto_rows": null,
            "grid_gap": null,
            "max_width": null,
            "order": null,
            "_view_module_version": "1.2.0",
            "grid_template_areas": null,
            "object_position": null,
            "object_fit": null,
            "grid_auto_columns": null,
            "margin": null,
            "display": null,
            "left": null
          }
        },
        "d9f370a0835d4e9b87c7bfbfab7058cf": {
          "model_module": "@jupyter-widgets/controls",
          "model_name": "FloatProgressModel",
          "state": {
            "_view_name": "ProgressView",
            "style": "IPY_MODEL_845ec82639a644f9938f86f4eab626a0",
            "_dom_classes": [],
            "description": "100%",
            "_model_name": "FloatProgressModel",
            "bar_style": "success",
            "max": 43,
            "_view_module": "@jupyter-widgets/controls",
            "_model_module_version": "1.5.0",
            "value": 43,
            "_view_count": null,
            "_view_module_version": "1.5.0",
            "orientation": "horizontal",
            "min": 0,
            "description_tooltip": null,
            "_model_module": "@jupyter-widgets/controls",
            "layout": "IPY_MODEL_c79fb8474fab49f084dcdeac8e82f449"
          }
        },
        "4c6ae4727ede4f3f8b7901ae6f6fd5d6": {
          "model_module": "@jupyter-widgets/controls",
          "model_name": "HTMLModel",
          "state": {
            "_view_name": "HTMLView",
            "style": "IPY_MODEL_5baab4353bdd4e19817d57c062dcf222",
            "_dom_classes": [],
            "description": "",
            "_model_name": "HTMLModel",
            "placeholder": "​",
            "_view_module": "@jupyter-widgets/controls",
            "_model_module_version": "1.5.0",
            "value": " 43/43 [00:05&lt;00:00,  8.53it/s]",
            "_view_count": null,
            "_view_module_version": "1.5.0",
            "description_tooltip": null,
            "_model_module": "@jupyter-widgets/controls",
            "layout": "IPY_MODEL_4b9c4a08b79e4c41b938b52c6278c880"
          }
        },
        "845ec82639a644f9938f86f4eab626a0": {
          "model_module": "@jupyter-widgets/controls",
          "model_name": "ProgressStyleModel",
          "state": {
            "_view_name": "StyleView",
            "_model_name": "ProgressStyleModel",
            "description_width": "initial",
            "_view_module": "@jupyter-widgets/base",
            "_model_module_version": "1.5.0",
            "_view_count": null,
            "_view_module_version": "1.2.0",
            "bar_color": null,
            "_model_module": "@jupyter-widgets/controls"
          }
        },
        "c79fb8474fab49f084dcdeac8e82f449": {
          "model_module": "@jupyter-widgets/base",
          "model_name": "LayoutModel",
          "state": {
            "_view_name": "LayoutView",
            "grid_template_rows": null,
            "right": null,
            "justify_content": null,
            "_view_module": "@jupyter-widgets/base",
            "overflow": null,
            "_model_module_version": "1.2.0",
            "_view_count": null,
            "flex_flow": null,
            "width": null,
            "min_width": null,
            "border": null,
            "align_items": null,
            "bottom": null,
            "_model_module": "@jupyter-widgets/base",
            "top": null,
            "grid_column": null,
            "overflow_y": null,
            "overflow_x": null,
            "grid_auto_flow": null,
            "grid_area": null,
            "grid_template_columns": null,
            "flex": null,
            "_model_name": "LayoutModel",
            "justify_items": null,
            "grid_row": null,
            "max_height": null,
            "align_content": null,
            "visibility": null,
            "align_self": null,
            "height": null,
            "min_height": null,
            "padding": null,
            "grid_auto_rows": null,
            "grid_gap": null,
            "max_width": null,
            "order": null,
            "_view_module_version": "1.2.0",
            "grid_template_areas": null,
            "object_position": null,
            "object_fit": null,
            "grid_auto_columns": null,
            "margin": null,
            "display": null,
            "left": null
          }
        },
        "5baab4353bdd4e19817d57c062dcf222": {
          "model_module": "@jupyter-widgets/controls",
          "model_name": "DescriptionStyleModel",
          "state": {
            "_view_name": "StyleView",
            "_model_name": "DescriptionStyleModel",
            "description_width": "",
            "_view_module": "@jupyter-widgets/base",
            "_model_module_version": "1.5.0",
            "_view_count": null,
            "_view_module_version": "1.2.0",
            "_model_module": "@jupyter-widgets/controls"
          }
        },
        "4b9c4a08b79e4c41b938b52c6278c880": {
          "model_module": "@jupyter-widgets/base",
          "model_name": "LayoutModel",
          "state": {
            "_view_name": "LayoutView",
            "grid_template_rows": null,
            "right": null,
            "justify_content": null,
            "_view_module": "@jupyter-widgets/base",
            "overflow": null,
            "_model_module_version": "1.2.0",
            "_view_count": null,
            "flex_flow": null,
            "width": null,
            "min_width": null,
            "border": null,
            "align_items": null,
            "bottom": null,
            "_model_module": "@jupyter-widgets/base",
            "top": null,
            "grid_column": null,
            "overflow_y": null,
            "overflow_x": null,
            "grid_auto_flow": null,
            "grid_area": null,
            "grid_template_columns": null,
            "flex": null,
            "_model_name": "LayoutModel",
            "justify_items": null,
            "grid_row": null,
            "max_height": null,
            "align_content": null,
            "visibility": null,
            "align_self": null,
            "height": null,
            "min_height": null,
            "padding": null,
            "grid_auto_rows": null,
            "grid_gap": null,
            "max_width": null,
            "order": null,
            "_view_module_version": "1.2.0",
            "grid_template_areas": null,
            "object_position": null,
            "object_fit": null,
            "grid_auto_columns": null,
            "margin": null,
            "display": null,
            "left": null
          }
        }
      }
    }
  },
  "cells": [
    {
      "cell_type": "code",
      "metadata": {
        "collapsed": true,
        "colab": {
          "base_uri": "https://localhost:8080/"
        },
        "id": "vjxUMcECTQ-Y",
        "outputId": "2d595c58-706d-4c12-9bcb-0452f2244978"
      },
      "source": [
        "# Polyglot’s NER doesn’t use human-annotated training datasets like other NER models.\n",
        "# Rather, it uses huge unlabelled datasets (like Wikipedia) with automatically inferred entity labels (via features such as hyperlinks).\n",
        "\n",
        "import os\n",
        "import csv\n",
        "\n",
        "from tqdm.notebook import tqdm\n",
        "!pip3 install -U git+https://github.com/aboSamoor/polyglot.git@master\n",
        "!polyglot download embeddings2.en ner2.en\n",
        "from polyglot.text import Text"
      ],
      "execution_count": 17,
      "outputs": [
        {
          "output_type": "stream",
          "text": [
            "Collecting git+https://github.com/aboSamoor/polyglot.git@master\n",
            "  Cloning https://github.com/aboSamoor/polyglot.git (to revision master) to /tmp/pip-req-build-dns7ulyt\n",
            "  Running command git clone -q https://github.com/aboSamoor/polyglot.git /tmp/pip-req-build-dns7ulyt\n",
            "Requirement already satisfied, skipping upgrade: numpy>=1.6.1 in /usr/local/lib/python3.6/dist-packages (from polyglot==16.7.4) (1.19.5)\n",
            "Collecting pycld2>=0.3\n",
            "\u001b[?25l  Downloading https://files.pythonhosted.org/packages/21/d2/8b0def84a53c88d0eb27c67b05269fbd16ad68df8c78849e7b5d65e6aec3/pycld2-0.41.tar.gz (41.4MB)\n",
            "\u001b[K     |████████████████████████████████| 41.4MB 92kB/s \n",
            "\u001b[?25hCollecting morfessor>=2.0.2a1\n",
            "  Downloading https://files.pythonhosted.org/packages/39/e6/7afea30be2ee4d29ce9de0fa53acbb033163615f849515c0b1956ad074ee/Morfessor-2.0.6-py3-none-any.whl\n",
            "Requirement already satisfied, skipping upgrade: six>=1.7.3 in /usr/local/lib/python3.6/dist-packages (from polyglot==16.7.4) (1.15.0)\n",
            "Collecting futures>=2.1.6\n",
            "  Downloading https://files.pythonhosted.org/packages/05/80/f41cca0ea1ff69bce7e7a7d76182b47bb4e1a494380a532af3e8ee70b9ec/futures-3.1.1-py3-none-any.whl\n",
            "Collecting PyICU>=1.8\n",
            "\u001b[?25l  Downloading https://files.pythonhosted.org/packages/31/46/fa08c8efae2951e67681ec24319f789fc1a74e2096dd74373e34c79319de/PyICU-2.6.tar.gz (233kB)\n",
            "\u001b[K     |████████████████████████████████| 235kB 52.1MB/s \n",
            "\u001b[?25hRequirement already satisfied, skipping upgrade: wheel>=0.23.0 in /usr/local/lib/python3.6/dist-packages (from polyglot==16.7.4) (0.36.2)\n",
            "Building wheels for collected packages: polyglot, pycld2, PyICU\n",
            "  Building wheel for polyglot (setup.py) ... \u001b[?25l\u001b[?25hdone\n",
            "  Created wheel for polyglot: filename=polyglot-16.7.4-py2.py3-none-any.whl size=70644 sha256=e530b0d85755a0454c2b748423e2bc8dbcb9423d89b210ee7a7a2b3f56b8ce70\n",
            "  Stored in directory: /tmp/pip-ephem-wheel-cache-224yz9vf/wheels/42/d9/73/345c7ae8554299ff8b31635d64eb8455fd591385fa734cdbef\n",
            "  Building wheel for pycld2 (setup.py) ... \u001b[?25l\u001b[?25hdone\n",
            "  Created wheel for pycld2: filename=pycld2-0.41-cp36-cp36m-linux_x86_64.whl size=9833483 sha256=c5d9ede2d3845c6fa91d8bd8031cc5b04804035663bf741ae6d05b814836a634\n",
            "  Stored in directory: /root/.cache/pip/wheels/c6/8f/e9/08a1a8932a490175bd140206cd86a3dbcfc70498100de11079\n",
            "  Building wheel for PyICU (setup.py) ... \u001b[?25l\u001b[?25hdone\n",
            "  Created wheel for PyICU: filename=PyICU-2.6-cp36-cp36m-linux_x86_64.whl size=1288480 sha256=5c8a78ffdb333b269ffd71089d5673cb966f1864662cd48ab60b91e4582c3176\n",
            "  Stored in directory: /root/.cache/pip/wheels/31/21/2f/1c91831e8a93537ab21f6b4b935781b681104635fdb0315791\n",
            "Successfully built polyglot pycld2 PyICU\n",
            "Installing collected packages: pycld2, morfessor, futures, PyICU, polyglot\n",
            "Successfully installed PyICU-2.6 futures-3.1.1 morfessor-2.0.6 polyglot-16.7.4 pycld2-0.41\n",
            "[polyglot_data] Downloading package embeddings2.en to\n",
            "[polyglot_data]     /root/polyglot_data...\n",
            "[polyglot_data] Downloading package ner2.en to /root/polyglot_data...\n"
          ],
          "name": "stdout"
        }
      ]
    },
    {
      "cell_type": "code",
      "metadata": {
        "pycharm": {
          "name": "#%%\n"
        },
        "colab": {
          "base_uri": "https://localhost:8080/"
        },
        "id": "riL4aMfwTQ-Y",
        "outputId": "0cf43c31-9dc7-4810-8d00-937bf7cf35ec"
      },
      "source": [
        "# Directory containing .txt files\n",
        "data_dir = os.path.join('/content', 'rental-agreement', 'txt')\n",
        "print(data_dir)\n"
      ],
      "execution_count": 18,
      "outputs": [
        {
          "output_type": "stream",
          "text": [
            "/content/rental-agreement/txt\n"
          ],
          "name": "stdout"
        }
      ]
    },
    {
      "cell_type": "code",
      "metadata": {
        "pycharm": {
          "name": "#%%\n"
        },
        "id": "F1cSKBTxTQ-Y"
      },
      "source": [
        "# Read the content out of each file, store as list of strings\n",
        "\n",
        "n_agreements = 43\n",
        "agreements = list()\n",
        "for i in range(n_agreements):\n",
        "    fname = str(i) + '.txt'\n",
        "    with open(os.path.join(data_dir, fname), 'r', encoding='utf-8') as f:\n",
        "        agreements.append(f.read())\n",
        "\n"
      ],
      "execution_count": 19,
      "outputs": []
    },
    {
      "cell_type": "code",
      "metadata": {
        "pycharm": {
          "name": "#%%\n"
        },
        "id": "jkbRGN2cTQ-Y"
      },
      "source": [
        "# Function that takes in a stanza doc object, extracts entity list for the doc\n",
        "# For each entity, creates the tuple: (text of the entity, start index, end index (exclusive), label of the entity)\n",
        "# Returns the list of such tuples\n",
        "\n",
        "def collect_entities(doc):\n",
        "    ent_texts= list()\n",
        "    words = doc['words']\n",
        "    tags = doc['tags']\n",
        "    for w,t in zip(words,tags):\n",
        "        ent_texts.append(\n",
        "            tuple((w, t)))\n",
        "\n",
        "    return ent_texts"
      ],
      "execution_count": 20,
      "outputs": []
    },
    {
      "cell_type": "code",
      "metadata": {
        "pycharm": {
          "name": "#%%\n"
        },
        "id": "GGqTb5xUTQ-Y"
      },
      "source": [
        "# Function that writes the list of entity info tuples into the csv specified\n",
        "\n",
        "def write_to_csv(entity_list, header_list, path):\n",
        "    with open(path, 'w', newline='') as csv_file:\n",
        "        csvwriter = csv.writer(csv_file, delimiter=',', quotechar='\\'', quoting=csv.QUOTE_MINIMAL)\n",
        "        csvwriter.writerow(header_list)\n",
        "        [csvwriter.writerow(entity_text) for entity_text in entity_list]\n",
        "\n",
        "    return"
      ],
      "execution_count": 21,
      "outputs": []
    },
    {
      "cell_type": "code",
      "metadata": {
        "pycharm": {
          "name": "#%%\n"
        },
        "id": "hUPb8A0wTQ-Y",
        "colab": {
          "base_uri": "https://localhost:8080/"
        },
        "outputId": "86db37ef-39e0-474d-a868-f8e995b38cf9"
      },
      "source": [
        "# Load the model\n",
        "sentence=\"Did Uriah honestly think he could beat The Legend of Zelda in under three hours?\"\n",
        "Text(sentence).entities\n"
      ],
      "execution_count": 22,
      "outputs": [
        {
          "output_type": "execute_result",
          "data": {
            "text/plain": [
              "[I-PER(['Uriah']), I-PER(['Zelda'])]"
            ]
          },
          "metadata": {
            "tags": []
          },
          "execution_count": 22
        }
      ]
    },
    {
      "cell_type": "code",
      "metadata": {
        "pycharm": {
          "name": "#%%\n"
        },
        "colab": {
          "base_uri": "https://localhost:8080/",
          "height": 66,
          "referenced_widgets": [
            "1ae81cc8bfa248c48930bcb8c43824fa",
            "e091110bd5454d17b4e8ae20b5a159e7",
            "d9f370a0835d4e9b87c7bfbfab7058cf",
            "4c6ae4727ede4f3f8b7901ae6f6fd5d6",
            "845ec82639a644f9938f86f4eab626a0",
            "c79fb8474fab49f084dcdeac8e82f449",
            "5baab4353bdd4e19817d57c062dcf222",
            "4b9c4a08b79e4c41b938b52c6278c880"
          ]
        },
        "id": "QQ2mZSO7TQ-Y",
        "outputId": "6548b0df-be92-48fb-91ad-f6169954186d"
      },
      "source": [
        "# For each agreement, run NER and store the results to a separate csv file\n",
        "\n",
        "for i in tqdm(range(n_agreements)):\n",
        "    agreement = agreements[i]\n",
        "    tags = Text(agreement).entities\n",
        "    words = Text(agreement).words\n",
        "    words = \" \".join(words)\n",
        "    with open('/content/rental-agreement/polygotNER/'+str(i)+'.txt', 'w', newline='') as txt_file:\n",
        "      print(\"original: \\n\",file=txt_file)\n",
        "      print(words,file=txt_file)\n",
        "      print(\"tags: \\n\",file=txt_file)\n",
        "      print(tags,file=txt_file)\n"
      ],
      "execution_count": 50,
      "outputs": [
        {
          "output_type": "display_data",
          "data": {
            "application/vnd.jupyter.widget-view+json": {
              "model_id": "1ae81cc8bfa248c48930bcb8c43824fa",
              "version_minor": 0,
              "version_major": 2
            },
            "text/plain": [
              "HBox(children=(FloatProgress(value=0.0, max=43.0), HTML(value='')))"
            ]
          },
          "metadata": {
            "tags": []
          }
        },
        {
          "output_type": "stream",
          "text": [
            "\n"
          ],
          "name": "stdout"
        }
      ]
    }
  ]
}