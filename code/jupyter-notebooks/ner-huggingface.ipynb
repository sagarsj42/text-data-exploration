{
 "cells": [
  {
   "cell_type": "code",
   "execution_count": 1,
   "id": "limiting-brooklyn",
   "metadata": {},
   "outputs": [],
   "source": [
    "import os\n",
    "\n",
    "from transformers import pipeline"
   ]
  },
  {
   "cell_type": "code",
   "execution_count": 2,
   "id": "hollow-shopper",
   "metadata": {},
   "outputs": [
    {
     "data": {
      "application/vnd.jupyter.widget-view+json": {
       "model_id": "acf8f9da22764812992f5cc07ae3757a",
       "version_major": 2,
       "version_minor": 0
      },
      "text/plain": [
       "Downloading:   0%|          | 0.00/1.33G [00:00<?, ?B/s]"
      ]
     },
     "metadata": {},
     "output_type": "display_data"
    },
    {
     "data": {
      "text/plain": [
       "<transformers.pipelines.TokenClassificationPipeline at 0x7f65973b37d0>"
      ]
     },
     "execution_count": 2,
     "metadata": {},
     "output_type": "execute_result"
    }
   ],
   "source": [
    "nlp = pipeline('ner')\n",
    "nlp"
   ]
  },
  {
   "cell_type": "code",
   "execution_count": 3,
   "id": "appreciated-ethics",
   "metadata": {},
   "outputs": [
    {
     "data": {
      "text/plain": [
       "[{'word': 'Donald',\n",
       "  'score': 0.9989485144615173,\n",
       "  'entity': 'I-PER',\n",
       "  'index': 1},\n",
       " {'word': 'Trump', 'score': 0.9993839859962463, 'entity': 'I-PER', 'index': 2},\n",
       " {'word': 'United',\n",
       "  'score': 0.9996799230575562,\n",
       "  'entity': 'I-LOC',\n",
       "  'index': 8},\n",
       " {'word': 'States',\n",
       "  'score': 0.9996539354324341,\n",
       "  'entity': 'I-LOC',\n",
       "  'index': 9}]"
      ]
     },
     "execution_count": 3,
     "metadata": {},
     "output_type": "execute_result"
    }
   ],
   "source": [
    "nlp('Donald Trump is the president of the United States.')"
   ]
  },
  {
   "cell_type": "code",
   "execution_count": null,
   "id": "fifty-circular",
   "metadata": {},
   "outputs": [],
   "source": []
  }
 ],
 "metadata": {
  "kernelspec": {
   "display_name": "Python 3",
   "language": "python",
   "name": "python3"
  },
  "language_info": {
   "codemirror_mode": {
    "name": "ipython",
    "version": 3
   },
   "file_extension": ".py",
   "mimetype": "text/x-python",
   "name": "python",
   "nbconvert_exporter": "python",
   "pygments_lexer": "ipython3",
   "version": "3.7.9"
  }
 },
 "nbformat": 4,
 "nbformat_minor": 5
}
