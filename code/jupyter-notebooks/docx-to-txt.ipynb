{
 "cells": [
  {
   "cell_type": "code",
   "execution_count": 1,
   "metadata": {},
   "outputs": [],
   "source": [
    "import os\n",
    "import docx"
   ]
  },
  {
   "cell_type": "code",
   "execution_count": 2,
   "metadata": {},
   "outputs": [
    {
     "name": "stdout",
     "output_type": "stream",
     "text": [
      "..\\..\\dataset\\rental-agreement\\kaggle-rental-agreements-dataset\n"
     ]
    }
   ],
   "source": [
    "# Directory containing .docx files\n",
    "\n",
    "data_dir = os.path.join('..', '..', 'dataset', 'rental-agreement', 'kaggle-rental-agreements-dataset')\n",
    "print(data_dir)"
   ]
  },
  {
   "cell_type": "code",
   "execution_count": 3,
   "metadata": {},
   "outputs": [
    {
     "name": "stdout",
     "output_type": "stream",
     "text": [
      "100999172-House-Rental-Agreement.pdf.docx\n",
      "116950326-December-2012-Rental-Agreement.pdf.docx\n",
      "136441742-Rental-Agreement-Format.pdf.docx\n",
      "142106117-Rental-Agreement.pdf.docx\n",
      "170499354-Anand-Nagar-Agreement.pdf.docx\n",
      "175488575-House-Rental-Agreement.pdf.docx\n",
      "18325926-Rental-Agreement-1.pdf.docx\n",
      "195231682-This-RENTAL-AGREEMENT-is-Made-and-Executed-on-24th-Day-of-September.pdf.docx\n",
      "203615996-Rental-Agreement-Format.pdf.docx\n",
      "216973836-Rental-Agreement-Sample.pdf.docx\n",
      "248636461-Rental-Agreement.pdf.docx\n",
      "249104436-House-Rental-Agreement.pdf.docx\n",
      "251798216-Rental-Agreement-Format1.pdf.docx\n",
      "267005869-Rental-Tenant.pdf.docx\n",
      "269135973-Udaya-Rental-Agreement.pdf.docx\n",
      "269137702-Rental-Agreement.pdf.docx\n",
      "269760124-97646-41223-Rental-Agreement.pdf.docx\n",
      "288024755-Rental-Agreement-1.pdf.docx\n",
      "294331674-Rental-Agreement.pdf.docx\n",
      "308044452-Rental-Agreement.pdf.docx\n",
      "323828497-Rental-Agreement-Micky.pdf.docx\n",
      "334060786-House-Rental-Agreement.pdf.docx\n",
      "343492954-Rent-Agreement-3E.pdf.docx\n",
      "36199312-Rental-Agreement.pdf.docx\n",
      "392810415-RENT-AGREEMENT.pdf.docx\n",
      "44737744-Maddireddy-Bhargava-Reddy-Rental-Agreement.pdf.docx\n",
      "46239065-Standard-Rental-Agreement-Rental-With-Performance-Fee.pdf.docx\n",
      "47854715-RENTAL-AGREEMENT.pdf.docx\n",
      "50070534-RENTAL-AGREEMENT (1).pdf.docx\n",
      "54770958-Rental-Agreement.pdf.docx\n",
      "54945838-Rental-Agreement.pdf.docx\n",
      "56736420-Rental-Agreement.pdf.docx\n",
      "62126501-Rental-Agreement.pdf.docx\n",
      "62144960-Rental-Agreement.pdf.docx\n",
      "63057680-Rental-Agreement.pdf.docx\n",
      "63793679-Rental-Agreement.pdf.docx\n",
      "6683127-House-Rental-Contract-GERALDINE-GALINATO-v2-Page-1.pdf.docx\n",
      "6683129-House-Rental-Contract-Geraldine-Galinato-v2.pdf.docx\n",
      "77112358-Jaggu-Rental-Agreemnt.pdf.docx\n",
      "81655723-Rental-Agreement.pdf.docx\n",
      "95421373-Agreement.pdf.docx\n",
      "95980236-Rental-Agreement.pdf.docx\n",
      "99699504-Rental-Agreement-English-Model.pdf.docx\n"
     ]
    }
   ],
   "source": [
    "# Convert each .docx to a string\n",
    "\n",
    "agreements = list()\n",
    "for fname in os.listdir(data_dir):\n",
    "    print(fname)\n",
    "    filepath = os.path.join(data_dir, fname)\n",
    "    doc = docx.Document(filepath)\n",
    "    paragraphs = doc.paragraphs\n",
    "    \n",
    "    text = ''\n",
    "    \n",
    "    # Put a line space between two paras\n",
    "    for p in paragraphs:\n",
    "        text += str(p.text) + '\\n\\n'\n",
    "    agreements.append(text)"
   ]
  },
  {
   "cell_type": "code",
   "execution_count": 4,
   "metadata": {},
   "outputs": [],
   "source": [
    "# Write the strings to txt file separately\n",
    "\n",
    "for i, agr in enumerate(agreements):\n",
    "    with open(os.path.join(data_dir, '..', 'txt', str(i)+'.txt'), 'w+', encoding='utf-8') as f:\n",
    "        f.write(agr)"
   ]
  },
  {
   "cell_type": "code",
   "execution_count": null,
   "metadata": {},
   "outputs": [],
   "source": []
  }
 ],
 "metadata": {
  "kernelspec": {
   "display_name": "Python 3",
   "language": "python",
   "name": "python3"
  },
  "language_info": {
   "codemirror_mode": {
    "name": "ipython",
    "version": 3
   },
   "file_extension": ".py",
   "mimetype": "text/x-python",
   "name": "python",
   "nbconvert_exporter": "python",
   "pygments_lexer": "ipython3",
   "version": "3.8.5"
  }
 },
 "nbformat": 4,
 "nbformat_minor": 4
}
